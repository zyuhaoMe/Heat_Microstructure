{
 "cells": [
  {
   "cell_type": "code",
   "execution_count": 1,
   "id": "57c7735b-e9fd-40c1-82ee-0b857e408f1f",
   "metadata": {},
   "outputs": [],
   "source": [
    "# import libaray\n",
    "import numpy as np\n",
    "import pandas as pd\n",
    "import matplotlib.pyplot as plt\n",
    "import seaborn as sns\n",
    "import os\n",
    "sns.set(rc={\"figure.dpi\":1600, 'savefig.dpi':1600})\n",
    "sns.set_theme(style = \"white\")\n",
    "# show all rows\n",
    "pd.set_option('display.max_rows',None)"
   ]
  },
  {
   "cell_type": "code",
   "execution_count": 4,
   "id": "f6426c68-16a5-4da8-a3c0-adc54fc10e3f",
   "metadata": {},
   "outputs": [
    {
     "data": {
      "text/plain": [
       "0.022222222222222223"
      ]
     },
     "execution_count": 4,
     "metadata": {},
     "output_type": "execute_result"
    }
   ],
   "source": [
    "5e-3 * 4 / 0.9"
   ]
  },
  {
   "cell_type": "code",
   "execution_count": null,
   "id": "84325ee4-1502-481d-9851-ddc46ba2abd1",
   "metadata": {},
   "outputs": [],
   "source": []
  }
 ],
 "metadata": {
  "kernelspec": {
   "display_name": "Python 3 (ipykernel)",
   "language": "python",
   "name": "python3"
  },
  "language_info": {
   "codemirror_mode": {
    "name": "ipython",
    "version": 3
   },
   "file_extension": ".py",
   "mimetype": "text/x-python",
   "name": "python",
   "nbconvert_exporter": "python",
   "pygments_lexer": "ipython3",
   "version": "3.9.7"
  }
 },
 "nbformat": 4,
 "nbformat_minor": 5
}
